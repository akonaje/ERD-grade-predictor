{
  "cells": [
    {
      "cell_type": "markdown",
      "metadata": {
        "id": "view-in-github",
        "colab_type": "text"
      },
      "source": [
        "<a href=\"https://colab.research.google.com/github/akonaje/site/blob/main/ERD_grade_prediction.ipynb\" target=\"_parent\"><img src=\"https://colab.research.google.com/assets/colab-badge.svg\" alt=\"Open In Colab\"/></a>"
      ]
    },
    {
      "cell_type": "markdown",
      "metadata": {
        "id": "gyFOriV6TZLS"
      },
      "source": [
        "# Stage 1"
      ]
    },
    {
      "cell_type": "code",
      "execution_count": null,
      "metadata": {
        "colab": {
          "base_uri": "https://localhost:8080/"
        },
        "id": "FlJpC1jhTbhH",
        "outputId": "e89bcf0f-4186-48b8-9c77-cac2c2e0db18"
      },
      "outputs": [
        {
          "output_type": "stream",
          "name": "stdout",
          "text": [
            "Ultralytics YOLOv8.2.102 🚀 Python-3.10.12 torch-2.4.1+cu121 CUDA:0 (Tesla T4, 15102MiB)\n",
            "Setup complete ✅ (2 CPUs, 12.7 GB RAM, 36.5/112.6 GB disk)\n"
          ]
        }
      ],
      "source": [
        "%pip install ultralytics\n",
        "import ultralytics\n",
        "ultralytics.checks()"
      ]
    },
    {
      "cell_type": "code",
      "execution_count": null,
      "metadata": {
        "colab": {
          "base_uri": "https://localhost:8080/"
        },
        "id": "aVx8II9zf6L3",
        "outputId": "cc18195a-8b10-4dcc-f620-f0df6284aae1"
      },
      "outputs": [
        {
          "output_type": "stream",
          "name": "stdout",
          "text": [
            "Mounted at /content/gdrive\n"
          ]
        }
      ],
      "source": [
        "## load google drive training dataset here\n",
        "from google.colab import drive\n",
        "drive.mount('/content/gdrive')"
      ]
    },
    {
      "cell_type": "code",
      "execution_count": null,
      "metadata": {
        "colab": {
          "base_uri": "https://localhost:8080/"
        },
        "id": "oVQbg-dJTiXp",
        "outputId": "89e7bfe6-5f8a-4779-b4c2-93453748de8c"
      },
      "outputs": [
        {
          "output_type": "stream",
          "name": "stdout",
          "text": [
            "detect\t\t\t    google-colab-config.yaml  labels\t\t   tasks.gdoc\n",
            "ERD-grade-prediction.ipynb  images\t\t      old-run-with-yolo8n  weights\n"
          ]
        }
      ],
      "source": [
        "!ls '/content/gdrive/My Drive/TrainModelDataset'"
      ]
    },
    {
      "cell_type": "code",
      "execution_count": null,
      "metadata": {
        "id": "KQAkFWylT9xh"
      },
      "outputs": [],
      "source": [
        "ROOT_DIR = '/content/gdrive/My Drive/TrainModelDataset'"
      ]
    },
    {
      "cell_type": "code",
      "source": [
        "!ls '/content/gdrive/My Drive/TrainModelDataset/detect/restart-train-2/weights/'\n"
      ],
      "metadata": {
        "colab": {
          "base_uri": "https://localhost:8080/"
        },
        "id": "2WpleuNdx43j",
        "outputId": "865b8af9-5cfd-460a-8831-77cfb8b48fc2"
      },
      "execution_count": null,
      "outputs": [
        {
          "output_type": "stream",
          "name": "stdout",
          "text": [
            "best.pt  last.pt\n"
          ]
        }
      ]
    },
    {
      "cell_type": "code",
      "execution_count": null,
      "metadata": {
        "collapsed": true,
        "id": "okAjvfWXT_ep"
      },
      "outputs": [],
      "source": [
        "import os\n",
        "from ultralytics import YOLO\n",
        "\n",
        "# Load a model\n",
        "#model = YOLO(\"yolov8m.yaml\")  # build a new model from YAMLa\n",
        "\n",
        "#Load already trained, saved model\n",
        "model = YOLO('/content/gdrive/My Drive/TrainModelDataset/detect/restart-train-2/weights/best.pt')\n"
      ]
    },
    {
      "cell_type": "code",
      "execution_count": null,
      "metadata": {
        "id": "pb-NMrMl5kdX",
        "colab": {
          "base_uri": "https://localhost:8080/"
        },
        "outputId": "eb6b51f8-0919-4510-bcad-bc35c7409514"
      },
      "outputs": [
        {
          "output_type": "stream",
          "name": "stdout",
          "text": [
            "Ultralytics YOLOv8.2.102 🚀 Python-3.10.12 torch-2.4.1+cu121 CUDA:0 (Tesla T4, 15102MiB)\n",
            "\u001b[34m\u001b[1mengine/trainer: \u001b[0mtask=detect, mode=train, model=/content/gdrive/My Drive/TrainModelDataset/detect/restart-train-2/weights/best.pt, data=/content/gdrive/My Drive/TrainModelDataset/google-colab-config.yaml, epochs=15, time=None, patience=100, batch=16, imgsz=640, save=True, save_period=-1, cache=False, device=None, workers=8, project=None, name=train3, exist_ok=False, pretrained=True, optimizer=auto, verbose=True, seed=0, deterministic=True, single_cls=False, rect=False, cos_lr=False, close_mosaic=10, resume=False, amp=True, fraction=1.0, profile=False, freeze=None, multi_scale=False, overlap_mask=True, mask_ratio=4, dropout=0.0, val=True, split=val, save_json=False, save_hybrid=False, conf=0.6, iou=0.6, max_det=300, half=False, dnn=False, plots=True, source=None, vid_stride=1, stream_buffer=False, visualize=False, augment=True, agnostic_nms=False, classes=None, retina_masks=False, embed=None, show=False, save_frames=False, save_txt=False, save_conf=False, save_crop=False, show_labels=True, show_conf=True, show_boxes=True, line_width=None, format=torchscript, keras=False, optimize=False, int8=False, dynamic=False, simplify=True, opset=None, workspace=4, nms=False, lr0=0.0001, lrf=0.01, momentum=0.937, weight_decay=0.0005, warmup_epochs=3.0, warmup_momentum=0.8, warmup_bias_lr=0.1, box=7.5, cls=0.5, dfl=1.5, pose=12.0, kobj=1.0, label_smoothing=0.0, nbs=64, hsv_h=0.015, hsv_s=0.7, hsv_v=0.4, degrees=0.0, translate=0.1, scale=0.5, shear=0.0, perspective=0.0, flipud=0.0, fliplr=0.5, bgr=0.0, mosaic=1.0, mixup=0.0, copy_paste=0.0, auto_augment=randaugment, erasing=0.4, crop_fraction=1.0, cfg=None, tracker=botsort.yaml, save_dir=runs/detect/train3\n",
            "\n",
            "                   from  n    params  module                                       arguments                     \n",
            "  0                  -1  1      1392  ultralytics.nn.modules.conv.Conv             [3, 48, 3, 2]                 \n",
            "  1                  -1  1     41664  ultralytics.nn.modules.conv.Conv             [48, 96, 3, 2]                \n",
            "  2                  -1  2    111360  ultralytics.nn.modules.block.C2f             [96, 96, 2, True]             \n",
            "  3                  -1  1    166272  ultralytics.nn.modules.conv.Conv             [96, 192, 3, 2]               \n",
            "  4                  -1  4    813312  ultralytics.nn.modules.block.C2f             [192, 192, 4, True]           \n",
            "  5                  -1  1    664320  ultralytics.nn.modules.conv.Conv             [192, 384, 3, 2]              \n",
            "  6                  -1  4   3248640  ultralytics.nn.modules.block.C2f             [384, 384, 4, True]           \n",
            "  7                  -1  1   1991808  ultralytics.nn.modules.conv.Conv             [384, 576, 3, 2]              \n",
            "  8                  -1  2   3985920  ultralytics.nn.modules.block.C2f             [576, 576, 2, True]           \n",
            "  9                  -1  1    831168  ultralytics.nn.modules.block.SPPF            [576, 576, 5]                 \n",
            " 10                  -1  1         0  torch.nn.modules.upsampling.Upsample         [None, 2, 'nearest']          \n",
            " 11             [-1, 6]  1         0  ultralytics.nn.modules.conv.Concat           [1]                           \n",
            " 12                  -1  2   1993728  ultralytics.nn.modules.block.C2f             [960, 384, 2]                 \n",
            " 13                  -1  1         0  torch.nn.modules.upsampling.Upsample         [None, 2, 'nearest']          \n",
            " 14             [-1, 4]  1         0  ultralytics.nn.modules.conv.Concat           [1]                           \n",
            " 15                  -1  2    517632  ultralytics.nn.modules.block.C2f             [576, 192, 2]                 \n",
            " 16                  -1  1    332160  ultralytics.nn.modules.conv.Conv             [192, 192, 3, 2]              \n",
            " 17            [-1, 12]  1         0  ultralytics.nn.modules.conv.Concat           [1]                           \n",
            " 18                  -1  2   1846272  ultralytics.nn.modules.block.C2f             [576, 384, 2]                 \n",
            " 19                  -1  1   1327872  ultralytics.nn.modules.conv.Conv             [384, 384, 3, 2]              \n",
            " 20             [-1, 9]  1         0  ultralytics.nn.modules.conv.Concat           [1]                           \n",
            " 21                  -1  2   4207104  ultralytics.nn.modules.block.C2f             [960, 576, 2]                 \n",
            " 22        [15, 18, 21]  1   3778591  ultralytics.nn.modules.head.Detect           [5, [192, 384, 576]]          \n",
            "YOLOv8m summary: 295 layers, 25,859,215 parameters, 25,859,199 gradients, 79.1 GFLOPs\n",
            "\n",
            "Transferred 475/475 items from pretrained weights\n",
            "\u001b[34m\u001b[1mTensorBoard: \u001b[0mStart with 'tensorboard --logdir runs/detect/train3', view at http://localhost:6006/\n",
            "Freezing layer 'model.22.dfl.conv.weight'\n",
            "\u001b[34m\u001b[1mAMP: \u001b[0mrunning Automatic Mixed Precision (AMP) checks with YOLOv8n...\n",
            "\u001b[34m\u001b[1mAMP: \u001b[0mchecks passed ✅\n"
          ]
        },
        {
          "output_type": "stream",
          "name": "stderr",
          "text": [
            "\u001b[34m\u001b[1mtrain: \u001b[0mScanning /content/gdrive/.shortcut-targets-by-id/1mK_qUFB82ueiA94KARAgCddLHDbAZRXF/TrainModelDataset/labels/train.cache... 134 images, 0 backgrounds, 0 corrupt: 100%|██████████| 134/134 [00:00<?, ?it/s]"
          ]
        },
        {
          "output_type": "stream",
          "name": "stdout",
          "text": [
            "\u001b[34m\u001b[1malbumentations: \u001b[0mBlur(p=0.01, blur_limit=(3, 7)), MedianBlur(p=0.01, blur_limit=(3, 7)), ToGray(p=0.01, num_output_channels=3, method='weighted_average'), CLAHE(p=0.01, clip_limit=(1, 4.0), tile_grid_size=(8, 8))\n"
          ]
        },
        {
          "output_type": "stream",
          "name": "stderr",
          "text": [
            "\n",
            "\u001b[34m\u001b[1mval: \u001b[0mScanning /content/gdrive/.shortcut-targets-by-id/1mK_qUFB82ueiA94KARAgCddLHDbAZRXF/TrainModelDataset/labels/train.cache... 134 images, 0 backgrounds, 0 corrupt: 100%|██████████| 134/134 [00:00<?, ?it/s]\n"
          ]
        },
        {
          "output_type": "stream",
          "name": "stdout",
          "text": [
            "Plotting labels to runs/detect/train3/labels.jpg... \n",
            "\u001b[34m\u001b[1moptimizer:\u001b[0m 'optimizer=auto' found, ignoring 'lr0=0.0001' and 'momentum=0.937' and determining best 'optimizer', 'lr0' and 'momentum' automatically... \n",
            "\u001b[34m\u001b[1moptimizer:\u001b[0m AdamW(lr=0.001111, momentum=0.9) with parameter groups 77 weight(decay=0.0), 84 weight(decay=0.0005), 83 bias(decay=0.0)\n",
            "\u001b[34m\u001b[1mTensorBoard: \u001b[0mmodel graph visualization added ✅\n",
            "Image sizes 640 train, 640 val\n",
            "Using 2 dataloader workers\n",
            "Logging results to \u001b[1mruns/detect/train3\u001b[0m\n",
            "Starting training for 15 epochs...\n",
            "\n",
            "      Epoch    GPU_mem   box_loss   cls_loss   dfl_loss  Instances       Size\n"
          ]
        },
        {
          "output_type": "stream",
          "name": "stderr",
          "text": [
            "       1/15      7.99G      1.521      1.272      2.018        114        640: 100%|██████████| 9/9 [00:13<00:00,  1.50s/it]\n",
            "                 Class     Images  Instances      Box(P          R      mAP50  mAP50-95): 100%|██████████| 5/5 [00:03<00:00,  1.57it/s]"
          ]
        },
        {
          "output_type": "stream",
          "name": "stdout",
          "text": [
            "                   all        134       1550      0.507       0.28      0.396      0.288\n"
          ]
        },
        {
          "output_type": "stream",
          "name": "stderr",
          "text": [
            "\n"
          ]
        },
        {
          "output_type": "stream",
          "name": "stdout",
          "text": [
            "\n",
            "      Epoch    GPU_mem   box_loss   cls_loss   dfl_loss  Instances       Size\n"
          ]
        },
        {
          "output_type": "stream",
          "name": "stderr",
          "text": [
            "       2/15      7.95G      1.471      1.183      1.955        129        640: 100%|██████████| 9/9 [00:13<00:00,  1.55s/it]\n",
            "                 Class     Images  Instances      Box(P          R      mAP50  mAP50-95): 100%|██████████| 5/5 [00:05<00:00,  1.05s/it]"
          ]
        },
        {
          "output_type": "stream",
          "name": "stdout",
          "text": [
            "                   all        134       1550      0.568      0.102      0.333      0.234\n"
          ]
        },
        {
          "output_type": "stream",
          "name": "stderr",
          "text": [
            "\n"
          ]
        },
        {
          "output_type": "stream",
          "name": "stdout",
          "text": [
            "\n",
            "      Epoch    GPU_mem   box_loss   cls_loss   dfl_loss  Instances       Size\n"
          ]
        },
        {
          "output_type": "stream",
          "name": "stderr",
          "text": [
            "       3/15      7.99G      1.441      1.154       1.91        132        640: 100%|██████████| 9/9 [00:09<00:00,  1.06s/it]\n",
            "                 Class     Images  Instances      Box(P          R      mAP50  mAP50-95):  40%|████      | 2/5 [00:02<00:03,  1.11s/it]"
          ]
        }
      ],
      "source": [
        "# Fine-tuning the restart train 2 model\n",
        "\n",
        "results = model.train(data=os.path.join(ROOT_DIR, \"google-colab-config.yaml\"),\n",
        "                      epochs=15,\n",
        "                      batch=16,\n",
        "                      conf=0.6,\n",
        "                      iou=0.6,\n",
        "                      lr0=0.0001,\n",
        "                      augment=True,\n",
        "                      model=\"/content/gdrive/My Drive/TrainModelDataset/detect/restart-train-2/weights/best.pt\")  # Path to the trained model weights\n",
        "\n",
        "\n",
        "\n"
      ]
    },
    {
      "cell_type": "markdown",
      "metadata": {
        "id": "m2WGQzkP5PUh"
      },
      "source": [
        "# Object Detection Model Testing"
      ]
    },
    {
      "cell_type": "code",
      "execution_count": null,
      "metadata": {
        "id": "HGOroWNF1WGj"
      },
      "outputs": [],
      "source": [
        "import pandas as pd\n",
        "from ultralytics import YOLO\n",
        "import matplotlib.pyplot as plt\n",
        "import cv2  # or use PIL for image handling"
      ]
    },
    {
      "cell_type": "code",
      "source": [],
      "metadata": {
        "id": "Tu_lEhbT1CvL"
      },
      "execution_count": null,
      "outputs": []
    },
    {
      "cell_type": "code",
      "source": [
        "def object_detection(model, img_path):\n",
        "\n",
        "  #run inference\n",
        "  results = model(test_image_path, conf=0.6, iou=0.85)\n",
        "\n",
        "  #read image\n",
        "  img = cv2.imread(test_image_path)\n",
        "  img = cv2.cvtColor(img, cv2.COLOR_BGR2RGB)\n",
        "\n",
        "  # Define colors for bounding boxes\n",
        "  color_dict = {\n",
        "        'entity': (255, 0, 0),  # Red\n",
        "        'weak-entity': (0, 255, 0),  # Green\n",
        "        'relationship': (0, 0, 255),  # Blue\n",
        "        'identifying-relationship': (255, 174, 66),  # Yellow\n",
        "        'attribute': (255, 0, 255)  # Magenta\n",
        "    }\n",
        "\n",
        "  detected_objects = []  # List to store detected objects\n",
        "\n",
        "  # Extract bounding boxes and object details\n",
        "  boxes = results[0].boxes\n",
        "\n",
        "\n",
        "  for box in boxes:\n",
        "      x1, y1, x2, y2 = map(int, box.xyxy[0].tolist())\n",
        "      class_id = int(box.cls)\n",
        "      label = model.names[class_id]\n",
        "      color = color_dict.get(label, (255, 255, 255))\n",
        "\n",
        "      confidence = int(box.cls)\n",
        "\n",
        "      #detected_objects.append([label, (x1, y1, x2, y2)])\n",
        "\n",
        "\n",
        "      #Arrays for NMS\n",
        "      confidences = []\n",
        "      bboxes = []\n",
        "      labels = []\n",
        "\n",
        "      #NMS\n",
        "      bboxes.append([x1, y1, x2, y2])\n",
        "      confidences.append(confidence)\n",
        "      labels.append(label)\n",
        "\n",
        "      # Convert to numpy array\n",
        "      bboxes = np.array(bboxes)\n",
        "      confidences = np.array(confidences)\n",
        "\n",
        "      #Apply NMS\n",
        "      indices = cv2.dnn.NMSBoxes(bboxes.tolist(), confidences.tolist(), score_threshold=0.6, nms_threshold=0.4)\n",
        "\n",
        "      # Draw the bounding box\n",
        "\n",
        "      if len(indices) > 0:\n",
        "        for i in indices.flatten():\n",
        "          x1, y1, x2, y2 = bboxes[i]\n",
        "          confidence = confidences[i]\n",
        "          label = labels[i]\n",
        "          color = color_dict.get(label, (255, 255, 255))\n",
        "\n",
        "          #draw bounding box\n",
        "          cv2.rectangle(img, (x1, y1), (x2, y2), color, 2)\n",
        "\n",
        "          # Add the label and confidence on top of the bounding box\n",
        "          labeltext = f\"{label}: {confidence:.2f}\"\n",
        "          cv2.putText(img, labeltext, (x1, y1 - 10), cv2.FONT_HERSHEY_TRIPLEX, 3, color, 2)\n",
        "\n",
        "          detected_objects.append([label, (x1, y1, x2, y2)])\n",
        "\n",
        "  #Display img\n",
        "  plt.imshow(img)\n",
        "  plt.axis('off')\n",
        "  plt.show()\n",
        "\n",
        "  print(type(detected_objects))\n",
        "\n",
        "  #Return list\n",
        "  return detected_objects\n",
        "\n",
        "\n",
        "test_image_path = \"/content/gdrive/My Drive/TrainModelDataset/images/test/1.png\"\n",
        "detected_objects = object_detection(model, test_image_path)\n",
        "\n",
        "# Output the detected objects\n",
        "print(detected_objects)\n"
      ],
      "metadata": {
        "colab": {
          "base_uri": "https://localhost:8080/",
          "height": 297
        },
        "id": "HCCBz64A08u0",
        "outputId": "b044d9c9-b992-466d-8787-a534919b9870"
      },
      "execution_count": null,
      "outputs": [
        {
          "output_type": "stream",
          "name": "stdout",
          "text": [
            "\n",
            "image 1/1 /content/gdrive/My Drive/TrainModelDataset/images/test/1.png: 224x640 3 entitys, 12 attributes, 65.2ms\n",
            "Speed: 2.9ms preprocess, 65.2ms inference, 1.7ms postprocess per image at shape (1, 3, 224, 640)\n"
          ]
        },
        {
          "output_type": "display_data",
          "data": {
            "text/plain": [
              "<Figure size 640x480 with 1 Axes>"
            ],
            "image/png": "[encoded data removed]"
          },
          "metadata": {}
        },
        {
          "output_type": "stream",
          "name": "stdout",
          "text": [
            "<class 'list'>\n",
            "[['attribute', (742, 4, 1085, 191)], ['attribute', (2663, 10, 3013, 184)], ['attribute', (2296, 10, 2640, 183)], ['attribute', (987, 953, 1330, 1116)], ['attribute', (1210, 9, 1559, 186)], ['attribute', (1219, 0, 1576, 183)], ['attribute', (1225, 724, 1580, 918)], ['attribute', (998, 948, 1346, 1132)], ['attribute', (2697, 0, 2997, 189)], ['attribute', (1219, 709, 1583, 934)], ['attribute', (738, 710, 1096, 920)], ['attribute', (757, 0, 1075, 194)]]\n"
          ]
        }
      ]
    },
    {
      "cell_type": "markdown",
      "metadata": {
        "id": "vdVxA74_6Idf"
      },
      "source": [
        "# OCR Model"
      ]
    },
    {
      "cell_type": "code",
      "source": [
        "import locale\n",
        "print(locale.getpreferredencoding())"
      ],
      "metadata": {
        "id": "labSBEYpQzCI",
        "colab": {
          "base_uri": "https://localhost:8080/"
        },
        "outputId": "069855d1-934e-42ee-b70f-289cc6c8afbc"
      },
      "execution_count": null,
      "outputs": [
        {
          "output_type": "stream",
          "name": "stdout",
          "text": [
            "UTF-8\n"
          ]
        }
      ]
    },
    {
      "cell_type": "code",
      "source": [
        "def getpreferredencoding(do_setlocale = True):\n",
        "    return \"UTF-8\"\n",
        "locale.getpreferredencoding = getpreferredencoding\n",
        "print(locale.getpreferredencoding())"
      ],
      "metadata": {
        "id": "TKYocVb1Q1J1",
        "colab": {
          "base_uri": "https://localhost:8080/"
        },
        "outputId": "51181819-37c9-436d-f71d-cef929c7d76b",
        "collapsed": true
      },
      "execution_count": null,
      "outputs": [
        {
          "output_type": "stream",
          "name": "stdout",
          "text": [
            "UTF-8\n"
          ]
        }
      ]
    },
    {
      "cell_type": "code",
      "execution_count": null,
      "metadata": {
        "id": "N5z4_Wc36Mo2",
        "colab": {
          "base_uri": "https://localhost:8080/"
        },
        "collapsed": true,
        "outputId": "24b6e368-5632-4271-cfea-ed0809742e52"
      },
      "outputs": [
        {
          "output_type": "stream",
          "name": "stdout",
          "text": [
            "Requirement already satisfied: easyocr in /usr/local/lib/python3.10/dist-packages (1.7.2)\n",
            "Requirement already satisfied: torch in /usr/local/lib/python3.10/dist-packages (from easyocr) (2.4.1+cu121)\n",
            "Requirement already satisfied: torchvision>=0.5 in /usr/local/lib/python3.10/dist-packages (from easyocr) (0.19.1+cu121)\n",
            "Requirement already satisfied: opencv-python-headless in /usr/local/lib/python3.10/dist-packages (from easyocr) (4.10.0.84)\n",
            "Requirement already satisfied: scipy in /usr/local/lib/python3.10/dist-packages (from easyocr) (1.13.1)\n",
            "Requirement already satisfied: numpy in /usr/local/lib/python3.10/dist-packages (from easyocr) (1.26.4)\n",
            "Requirement already satisfied: Pillow in /usr/local/lib/python3.10/dist-packages (from easyocr) (10.4.0)\n",
            "Requirement already satisfied: scikit-image in /usr/local/lib/python3.10/dist-packages (from easyocr) (0.24.0)\n",
            "Requirement already satisfied: python-bidi in /usr/local/lib/python3.10/dist-packages (from easyocr) (0.6.0)\n",
            "Requirement already satisfied: PyYAML in /usr/local/lib/python3.10/dist-packages (from easyocr) (6.0.2)\n",
            "Requirement already satisfied: Shapely in /usr/local/lib/python3.10/dist-packages (from easyocr) (2.0.6)\n",
            "Requirement already satisfied: pyclipper in /usr/local/lib/python3.10/dist-packages (from easyocr) (1.3.0.post5)\n",
            "Requirement already satisfied: ninja in /usr/local/lib/python3.10/dist-packages (from easyocr) (1.11.1.1)\n",
            "Requirement already satisfied: filelock in /usr/local/lib/python3.10/dist-packages (from torch->easyocr) (3.16.1)\n",
            "Requirement already satisfied: typing-extensions>=4.8.0 in /usr/local/lib/python3.10/dist-packages (from torch->easyocr) (4.12.2)\n",
            "Requirement already satisfied: sympy in /usr/local/lib/python3.10/dist-packages (from torch->easyocr) (1.13.3)\n",
            "Requirement already satisfied: networkx in /usr/local/lib/python3.10/dist-packages (from torch->easyocr) (3.3)\n",
            "Requirement already satisfied: jinja2 in /usr/local/lib/python3.10/dist-packages (from torch->easyocr) (3.1.4)\n",
            "Requirement already satisfied: fsspec in /usr/local/lib/python3.10/dist-packages (from torch->easyocr) (2024.6.1)\n",
            "Requirement already satisfied: imageio>=2.33 in /usr/local/lib/python3.10/dist-packages (from scikit-image->easyocr) (2.35.1)\n",
            "Requirement already satisfied: tifffile>=2022.8.12 in /usr/local/lib/python3.10/dist-packages (from scikit-image->easyocr) (2024.9.20)\n",
            "Requirement already satisfied: packaging>=21 in /usr/local/lib/python3.10/dist-packages (from scikit-image->easyocr) (24.1)\n",
            "Requirement already satisfied: lazy-loader>=0.4 in /usr/local/lib/python3.10/dist-packages (from scikit-image->easyocr) (0.4)\n",
            "Requirement already satisfied: MarkupSafe>=2.0 in /usr/local/lib/python3.10/dist-packages (from jinja2->torch->easyocr) (2.1.5)\n",
            "Requirement already satisfied: mpmath<1.4,>=1.1.0 in /usr/local/lib/python3.10/dist-packages (from sympy->torch->easyocr) (1.3.0)\n"
          ]
        }
      ],
      "source": [
        "!pip install easyocr"
      ]
    },
    {
      "cell_type": "code",
      "execution_count": null,
      "metadata": {
        "id": "j4wwbTw9-gVg"
      },
      "outputs": [],
      "source": [
        "#imports\n",
        "import easyocr\n",
        "import cv2 #for images\n",
        "import numpy as np\n",
        "from PIL import Image"
      ]
    },
    {
      "cell_type": "code",
      "source": [
        "\n",
        "# Define the path to the image\n",
        "\n",
        "# Run inference\n",
        "results = model(test_image_path, conf=0.6, iou=0.85)\n",
        "\n"
      ],
      "metadata": {
        "colab": {
          "base_uri": "https://localhost:8080/"
        },
        "collapsed": true,
        "id": "2isAuMHsdTgy",
        "outputId": "e8f48cd1-a6a0-473a-ab9b-8bf0011d60aa"
      },
      "execution_count": null,
      "outputs": [
        {
          "output_type": "stream",
          "name": "stdout",
          "text": [
            "\n",
            "image 1/1 /content/gdrive/My Drive/TrainModelDataset/images/test/2.png: 576x640 2 entitys, 4 relationships, 1 identifying-relationship, 35.7ms\n",
            "Speed: 4.8ms preprocess, 35.7ms inference, 1.9ms postprocess per image at shape (1, 3, 576, 640)\n"
          ]
        }
      ]
    },
    {
      "cell_type": "code",
      "source": [
        "def detect_lines(image):\n",
        "  gray = cv2.cvtColor(image, cv2.COLOR_BGR2GRAY)\n",
        "  blurred = cv2.GaussianBlur(gray, (5, 5), 0)\n",
        "  edges = cv2.Canny(blurred, 50, 150, apertureSize=3)\n",
        "\n",
        "  lines = cv2.HoughLinesP(edges, 1, np.pi / 180, threshold=100, minLineLength=100, maxLineGap=10)\n",
        "\n",
        "\n",
        "  if lines is not None:\n",
        "        for line in lines:\n",
        "            for x1, y1, x2, y2 in line:\n",
        "                # Check if the line is horizontal (y1 and y2 are almost the same)\n",
        "                if abs(y1 - y2) < 5:  # Adjust threshold for detecting horizontal lines\n",
        "                    # Draw the line (as an underscore)\n",
        "                    cv2.line(image, (x1, y1), (x2, y2), (0, 255, 0), 2)  # Green line as underscore\n",
        "  return image\n",
        "\n",
        "\n",
        "def run_ocr(crop_img, reader):\n",
        "  results = reader.readtext(crop_img, detail=0)\n",
        "  return results\n",
        "\n",
        "\n",
        "def ocr_module(img_path, detected_objects):\n",
        "\n",
        "  # Initialize the OCR reader\n",
        "    img = cv2.imread(img_path)\n",
        "\n",
        "    #pre-process image\n",
        "    img_with_lines = detect_lines(img)\n",
        "\n",
        "\n",
        "    reader = easyocr.Reader(['en'])\n",
        "\n",
        "    ocr_results = []\n",
        "\n",
        "    base_name = os.path.splitext(os.path.basename(img_path))[0]\n",
        "    output_txt_path = f\"{base_name}.txt\"\n",
        "\n",
        "    with open(output_txt_path, 'w') as file:\n",
        "      for obj in detected_objects:\n",
        "        label = obj[0]\n",
        "        x1, y1, x2, y2 = obj[1]\n",
        "\n",
        "        # Ensure coordinates are within image boundaries\n",
        "        height, width, _ = img.shape\n",
        "        x1 = max(0, min(x1, width - 1))\n",
        "        y1 = max(0, min(y1, height - 1))\n",
        "        x2 = max(0, min(x2, width - 1))\n",
        "        y2 = max(0, min(y2, height - 1))\n",
        "\n",
        "\n",
        "        #draw bounding boxes\n",
        "        color = color_dict.get(label, (255, 255, 255))\n",
        "        cv2.rectangle(img, (x1, y1), (x2, y2), color, 2)\n",
        "        labeltext = f\"{label}\"\n",
        "        cv2.putText(img, labeltext, (x1, y1 - 10), cv2.FONT_HERSHEY_TRIPLEX, 3, color, 2)\n",
        "\n",
        "        #crop to the bounding box\n",
        "        box_img = img[y1:y2, x1:x2]\n",
        "\n",
        "        #Run OCR\n",
        "        output = run_ocr(box_img, reader)\n",
        "\n",
        "        ocr_results.append([label] + output)\n",
        "\n",
        "        file.write(f\"{[label] + output}\\n\")\n",
        "\n",
        "    return ocr_results\n",
        "\n",
        "test_image_path = \"/content/gdrive/My Drive/TrainModelDataset/images/test/1.png\"\n",
        "function = ocr_module(test_image_path, detected_objects)\n",
        "\n",
        "# Show the image with bounding boxes\n",
        "##plt.imshow(img)\n",
        "#plt.axis('off')\n",
        "#plt.show()\n",
        "\n",
        "for result in function:\n",
        "  print(result)\n",
        "\n",
        "  #Read the image\n"
      ],
      "metadata": {
        "colab": {
          "base_uri": "https://localhost:8080/"
        },
        "id": "o82s22GC5Fi_",
        "outputId": "1a9e10be-3c8b-4328-c049-663aacce4a8f"
      },
      "execution_count": null,
      "outputs": [
        {
          "output_type": "stream",
          "name": "stdout",
          "text": [
            "['attribute', 'Qtiin']\n",
            "['attribute', 'price']\n",
            "['entity', 'airline', 'PK', 'rating']\n",
            "['attribute', 'max #']\n",
            "['attribute', 'arrival date-', 'time']\n",
            "['attribute', 'Lsation']\n",
            "['entity', 'bag', 'PK', 'type', 'max weight']\n",
            "['attribute', 'Esation']\n",
            "['attribute', 'duration']\n",
            "['attribute', 'arrival date-', 'time']\n",
            "['entity', 'trip', 'PK', 'class', 'e', 'price', 'type']\n",
            "['attribute', 'price']\n",
            "['attribute', 'duration', 'HAn##L']\n",
            "['attribute', 'departure', 'date-time']\n",
            "['attribute', 'Ofigin']\n"
          ]
        }
      ]
    },
    {
      "cell_type": "code",
      "source": [
        "#Post-process the results of the OCR\n",
        "\n",
        "def merge_adj_words(ocr_output, threshold=50):\n",
        "\n",
        "  merged_line = []\n",
        "  current_word = ocr_output[0][0]  # Start with the first word\n",
        "\n",
        "  for i in range(1, len(ocr_output)):\n",
        "      prev_box = ocr_output[i-1][1]\n",
        "      curr_box = ocr_output[i][1]\n",
        "        # Check if words are horizontally adjacent within the threshold\n",
        "      if abs(curr_box[0] - prev_box[2]) <= threshold:  # Compare x-coordinates\n",
        "          current_word += \"_\" + ocr_output[i][0]  # Merge with underscore\n",
        "      else:\n",
        "          merged_line.append(current_word)\n",
        "          current_word = ocr_output[i][0]  # Start a new word\n",
        "\n",
        "  merged_line.append(current_word)  # Add the last word\n",
        "  return merged_line\n",
        "\n",
        "def process_ocr(function):\n",
        "\n",
        "  processed_results = []\n",
        "  current_box = ocr_results[0][1]\n",
        "  current_words = []\n",
        "\n",
        "  for item in ocr_results:\n",
        "      word = item[0]\n",
        "      box = item[1]\n",
        "      if box == current_box:\n",
        "            # If the word is in the same bounding box, add it to current_words\n",
        "          current_words.append((word, box))\n",
        "      else:\n",
        "            # Process the previous bounding box before moving to the next one\n",
        "          merged_words = merge_adj_words(current_words)\n",
        "          processed_results.extend(merged_words)\n",
        "          current_words = [(word, box)]  # Start with the new box\n",
        "          current_box = box  # Update the box\n",
        "\n",
        "    # Process the last bounding box\n",
        "  if current_words:\n",
        "      merged_words = merge_adj_words(current_words)\n",
        "      processed_results.extend(merged_words)\n",
        "\n",
        "  return processed_results\n",
        "\n",
        "\n",
        "processed_result = process_ocr(function)\n",
        "for line in processed_result:\n",
        "  print(line)"
      ],
      "metadata": {
        "colab": {
          "base_uri": "https://localhost:8080/"
        },
        "id": "nh2utsGI__A8",
        "outputId": "95c3b2ab-db43-4377-91e2-68b099f97fac"
      },
      "execution_count": null,
      "outputs": [
        {
          "output_type": "stream",
          "name": "stdout",
          "text": [
            "relationship\n",
            "relationship\n",
            "relationship\n",
            "identifying-relationship\n",
            "relationship\n",
            "entity\n",
            "entity\n",
            "relationship\n",
            "relationship\n",
            "relationship\n",
            "identifying-relationship\n",
            "relationship\n",
            "entity\n",
            "entity\n",
            "relationship\n",
            "relationship\n",
            "relationship\n",
            "identifying-relationship\n",
            "relationship\n",
            "entity\n",
            "entity\n",
            "relationship\n",
            "relationship\n",
            "relationship\n",
            "identifying-relationship\n",
            "relationship\n",
            "entity\n",
            "entity\n",
            "relationship\n",
            "relationship\n",
            "relationship\n",
            "identifying-relationship\n",
            "relationship\n",
            "entity\n",
            "entity\n",
            "relationship\n",
            "relationship\n",
            "relationship\n",
            "identifying-relationship\n",
            "relationship\n",
            "entity\n",
            "entity\n",
            "relationship\n",
            "relationship\n",
            "relationship\n",
            "identifying-relationship\n",
            "relationship\n",
            "entity\n",
            "entity\n"
          ]
        }
      ]
    },
    {
      "cell_type": "code",
      "source": [
        "import easyocr\n",
        "reader = easyocr.Reader(['en'])"
      ],
      "metadata": {
        "id": "ozNln9OtnvLl"
      },
      "execution_count": null,
      "outputs": []
    },
    {
      "cell_type": "code",
      "source": [
        "#Use OCR to read text from the detected bounding boxes\n",
        "\n",
        "def run_ocr(img):\n",
        "   results = reader.readtext(img, detail=0)\n",
        "   return results\n",
        "\n",
        "ocr_results = []\n",
        "\n",
        "#Iterate over bounding boxes\n",
        "boxes = results[0].boxes\n",
        "\n",
        "for box in boxes:\n",
        "    x1, y1, x2, y2 = map(int, box.xyxy[0].tolist())\n",
        "    class_id = int(box.cls)\n",
        "    label = model.names[class_id]\n",
        "\n",
        "    #Draw bounding boxes over img\n",
        "    color = color_dict.get(label, (255, 255, 255))\n",
        "    cv2.rectangle(img, (x1, y1), (x2, y2), color, 2)\n",
        "    labeltext = f\"{label}\"\n",
        "    cv2.putText(img, labeltext, (x1, y1 - 10), cv2.FONT_HERSHEY_TRIPLEX , 3, color, 2)\n",
        "\n",
        "    # Run OCR on the detected region\n",
        "    box_img = img[y1:y2, x1:x2] #ensure box is numpy array\n",
        "    output = run_ocr(box_img)\n",
        "\n",
        "    for i in output:\n",
        "      print(i)\n",
        "\n",
        "    #text = merge_by_proximity(output)\n",
        "\n",
        "    ocr_results.append([label] + output)\n",
        "\n",
        "# Show the image with bounding boxes\n",
        "plt.imshow(img)\n",
        "plt.axis('off')\n",
        "#plt.show()\n",
        "\n",
        "\n",
        "# Print OCR results\n",
        "for result in ocr_results:\n",
        "    print(result)\n",
        "\n",
        "\n",
        "\n",
        "\n",
        "\n",
        "\n"
      ],
      "metadata": {
        "colab": {
          "base_uri": "https://localhost:8080/",
          "height": 888
        },
        "id": "4oCfcjclcKsE",
        "outputId": "de4d2e35-144d-42f9-dd54-bdc7a3a7dde3"
      },
      "execution_count": null,
      "outputs": [
        {
          "output_type": "stream",
          "name": "stdout",
          "text": [
            "Sold by\n",
            "Return Flight\n",
            "Outbound Flight\n",
            "Allowed Bag Type\n",
            "Operated by\n",
            "Airline\n",
            "PK\n",
            "airline\n",
            "name\n",
            "rating\n",
            "Trip\n",
            "PK\n",
            "trip_\n",
            "number\n",
            "class\n",
            "price\n",
            "max\n",
            "bags\n",
            "origin\n",
            "destination\n",
            "['relationship', 'Sold by']\n",
            "['relationship', 'Return Flight']\n",
            "['relationship', 'Outbound Flight']\n",
            "['identifying-relationship', 'Allowed Bag Type']\n",
            "['relationship', 'Operated by']\n",
            "['entity', 'Airline', 'PK', 'airline', 'name', 'rating']\n",
            "['entity', 'Trip', 'PK', 'trip_', 'number', 'class', 'price', 'max', 'bags', 'origin', 'destination']\n"
          ]
        },
        {
          "output_type": "display_data",
          "data": {
            "text/plain": [
              "<Figure size 640x480 with 1 Axes>"
            ],
            "image/png": "[encoded data removed]"
          },
          "metadata": {}
        }
      ]
    },
    {
      "cell_type": "code",
      "execution_count": null,
      "metadata": {
        "id": "NmEr2mevb8Zh"
      },
      "outputs": [],
      "source": [
        "!cp -r /content/runs ROOT_DIR\n"
      ]
    },
    {
      "cell_type": "markdown",
      "source": [
        "#**testing something...**"
      ],
      "metadata": {
        "id": "hsaeVo_fOfDO"
      }
    },
    {
      "cell_type": "code",
      "source": [
        "import cv2\n",
        "import numpy as np\n",
        "import matplotlib.pyplot as plt\n",
        "from PIL import Image\n",
        "import easyocr\n",
        "\n",
        "# Initialize EasyOCR Reader\n",
        "ocr = easyocr.Reader(['en'])\n",
        "\n",
        "# Define the path to your trained model weights\n",
        "weights_path = \"runs/detect/train/weights/best.pt\"\n",
        "\n",
        "# Load the trained model\n",
        "model = YOLO(weights_path)\n",
        "\n",
        "# Define the path to the image\n",
        "test_image_path = \"/content/gdrive/My Drive/TrainModelDataset/images/test/2.png\"\n",
        "\n",
        "# Run inference\n",
        "results = model(test_image_path, conf=0.6, iou=0.85)\n",
        "\n",
        "# Read the image\n",
        "img = cv2.imread(test_image_path)\n",
        "img_rgb = cv2.cvtColor(img, cv2.COLOR_BGR2RGB)\n",
        "\n",
        "# Define colors for bounding boxes\n",
        "color_dict = {\n",
        "    'entity': (255, 0, 0),  # Red\n",
        "    'weak-entity': (0, 255, 0),  # Green\n",
        "    'relationship': (0, 0, 255),  # Blue\n",
        "    'identifying-relationship': (255, 174, 66),  # Yellow\n",
        "    'attribute': (255, 0, 255)  # Magenta\n",
        "}\n",
        "\n",
        "# Extract bounding boxes and run OCR\n",
        "ocr_results = []\n",
        "\n",
        "boxes = results[0].boxes\n",
        "for box in boxes:\n",
        "    x1, y1, x2, y2 = map(int, box.xyxy[0].tolist())\n",
        "    class_id = int(box.cls)\n",
        "    confidence = float(box.conf)\n",
        "    label = model.names[class_id]\n",
        "\n",
        "    color = color_dict.get(label, (255, 255, 255))\n",
        "    cv2.rectangle(img_rgb, (x1, y1), (x2, y2), color, 2)\n",
        "    labeltext = f\"{label}: {confidence:.2f}\"\n",
        "    cv2.putText(img_rgb, labeltext, (x1, y1 - 10), cv2.FONT_HERSHEY_TRIPLEX , 3, color, 2)\n",
        "\n",
        "    # Run OCR on the detected region\n",
        "    box_img = img[y1:y2, x1:x2]\n",
        "    box_img_pil = Image.fromarray(cv2.cvtColor(box_img, cv2.COLOR_BGR2RGB))\n",
        "    text = run_ocr(box_img_pil, [0, 0, x2 - x1, y2 - y1])\n",
        "    ocr_results.append((label, confidence, text))\n",
        "\n",
        "# Show the image with bounding boxes\n",
        "plt.imshow(img_rgb)\n",
        "plt.axis('off')\n",
        "plt.show()\n",
        "\n",
        "# Print OCR results\n",
        "for result in ocr_results:\n",
        "    label, confidence, text = result\n",
        "    print(f\"Label: {label}, Confidence: {confidence:.2f}, OCR Text: {text}\")\n"
      ],
      "metadata": {
        "id": "i7ebSIsuOiCG",
        "colab": {
          "base_uri": "https://localhost:8080/",
          "height": 585
        },
        "outputId": "a800e259-4e0e-4f21-99c3-8686aad92668"
      },
      "execution_count": null,
      "outputs": [
        {
          "output_type": "stream",
          "name": "stdout",
          "text": [
            "\n",
            "image 1/1 /content/gdrive/My Drive/TrainModelDataset/images/test/2.png: 576x640 2 entitys, 4 relationships, 1 identifying-relationship, 75.5ms\n",
            "Speed: 15.9ms preprocess, 75.5ms inference, 13.2ms postprocess per image at shape (1, 3, 576, 640)\n"
          ]
        },
        {
          "output_type": "display_data",
          "data": {
            "text/plain": [
              "<Figure size 640x480 with 1 Axes>"
            ],
            "image/png": "[encoded data removed]"
          },
          "metadata": {}
        },
        {
          "output_type": "stream",
          "name": "stdout",
          "text": [
            "Label: relationship, Confidence: 0.82, OCR Text: ['Sold by']\n",
            "Label: relationship, Confidence: 0.82, OCR Text: ['Return Flight']\n",
            "Label: relationship, Confidence: 0.79, OCR Text: ['Outbound Flight']\n",
            "Label: identifying-relationship, Confidence: 0.78, OCR Text: ['Allowed Bag Type']\n",
            "Label: relationship, Confidence: 0.72, OCR Text: ['Operated by']\n",
            "Label: entity, Confidence: 0.72, OCR Text: ['Airline', 'PK', 'airline', 'name', 'rating']\n",
            "Label: entity, Confidence: 0.68, OCR Text: ['Trip', 'PK', 'trip_', 'number', 'class', 'price', 'max', 'bags', 'origin', 'destination']\n"
          ]
        }
      ]
    },
    {
      "cell_type": "code",
      "source": [],
      "metadata": {
        "id": "lkwPkc7DOisj"
      },
      "execution_count": null,
      "outputs": []
    }
  ],
  "metadata": {
    "colab": {
      "provenance": [],
      "gpuType": "T4",
      "include_colab_link": true
    },
    "kernelspec": {
      "display_name": "Python 3",
      "name": "python3"
    },
    "language_info": {
      "name": "python"
    },
    "accelerator": "GPU"
  },
  "nbformat": 4,
  "nbformat_minor": 0
}